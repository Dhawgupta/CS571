{
 "cells": [
  {
   "cell_type": "code",
   "execution_count": 6,
   "metadata": {},
   "outputs": [],
   "source": [
    "import random\n",
    "import numpy as np"
   ]
  },
  {
   "cell_type": "code",
   "execution_count": 45,
   "metadata": {},
   "outputs": [],
   "source": [
    "from keras.models import Sequential\n",
    "from keras.layers import Dense\n",
    "\n",
    "\n",
    "model = Sequential()\n",
    "model.add(Dense(units = 2, activation='sigmoid',input_dim = 2))\n",
    "model.add(Dense(units = 2, activation = 'softmax'))"
   ]
  },
  {
   "cell_type": "code",
   "execution_count": 46,
   "metadata": {},
   "outputs": [],
   "source": [
    "model.compile(loss = 'categorical_crossentropy', \n",
    "             optimizer = 'sgd',\n",
    "             metrics = ['accuracy'])\n"
   ]
  },
  {
   "cell_type": "code",
   "execution_count": 47,
   "metadata": {},
   "outputs": [
    {
     "name": "stdout",
     "output_type": "stream",
     "text": [
      "[[1 0]\n",
      " [1 1]\n",
      " [1 1]\n",
      " ...\n",
      " [0 1]\n",
      " [0 0]\n",
      " [1 1]]\n",
      "[[0. 1.]\n",
      " [1. 0.]\n",
      " [1. 0.]\n",
      " ...\n",
      " [0. 1.]\n",
      " [1. 0.]\n",
      " [1. 0.]]\n"
     ]
    }
   ],
   "source": [
    "n = 10000 # ddataset size\n",
    "x = [[random.randint(0,1),random.randint(0,1)] for i in range(n)]\n",
    "y = [i^j for i,j in x]\n",
    "x = np.array(x)\n",
    "y = np.reshape(y, (-1,1))\n",
    "from keras.utils import to_categorical\n",
    "y = to_categorical(y)\n",
    "print(x)\n",
    "print(y)"
   ]
  },
  {
   "cell_type": "code",
   "execution_count": 48,
   "metadata": {},
   "outputs": [
    {
     "name": "stdout",
     "output_type": "stream",
     "text": [
      "Epoch 1/6\n",
      "10000/10000 [==============================] - 6s 555us/step - loss: 0.6708 - acc: 0.6076\n",
      "Epoch 2/6\n",
      "10000/10000 [==============================] - 5s 536us/step - loss: 0.3620 - acc: 0.8955\n",
      "Epoch 3/6\n",
      "10000/10000 [==============================] - 5s 547us/step - loss: 0.0738 - acc: 1.0000\n",
      "Epoch 4/6\n",
      "10000/10000 [==============================] - 5s 535us/step - loss: 0.0322 - acc: 1.0000\n",
      "Epoch 5/6\n",
      "10000/10000 [==============================] - 5s 536us/step - loss: 0.0201 - acc: 1.0000\n",
      "Epoch 6/6\n",
      "10000/10000 [==============================] - 6s 614us/step - loss: 0.0145 - acc: 1.0000\n"
     ]
    },
    {
     "data": {
      "text/plain": [
       "<keras.callbacks.History at 0x125a4d3c8>"
      ]
     },
     "execution_count": 48,
     "metadata": {},
     "output_type": "execute_result"
    }
   ],
   "source": [
    "model.fit(x, y, epochs = 6, batch_size = 1)"
   ]
  },
  {
   "cell_type": "code",
   "execution_count": 49,
   "metadata": {},
   "outputs": [
    {
     "data": {
      "text/plain": [
       "array([[0.01621307, 0.983787  ],\n",
       "       [0.98977435, 0.01022561],\n",
       "       [0.98977435, 0.01022561],\n",
       "       ...,\n",
       "       [0.01106914, 0.9889309 ],\n",
       "       [0.9872399 , 0.01276013],\n",
       "       [0.98977435, 0.01022561]], dtype=float32)"
      ]
     },
     "execution_count": 49,
     "metadata": {},
     "output_type": "execute_result"
    }
   ],
   "source": [
    "model.predict(x)"
   ]
  }
 ],
 "metadata": {
  "kernelspec": {
   "display_name": "Python 3",
   "language": "python",
   "name": "python3"
  },
  "language_info": {
   "codemirror_mode": {
    "name": "ipython",
    "version": 3
   },
   "file_extension": ".py",
   "mimetype": "text/x-python",
   "name": "python",
   "nbconvert_exporter": "python",
   "pygments_lexer": "ipython3",
   "version": "3.6.5"
  }
 },
 "nbformat": 4,
 "nbformat_minor": 2
}
