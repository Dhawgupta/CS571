{
 "cells": [
  {
   "cell_type": "code",
   "execution_count": 6,
   "metadata": {},
   "outputs": [],
   "source": [
    "import random\n",
    "import numpy as np"
   ]
  },
  {
   "cell_type": "code",
   "execution_count": 34,
   "metadata": {},
   "outputs": [],
   "source": [
    "from keras.models import Sequential\n",
    "from keras.layers import Dense\n",
    "\n",
    "\n",
    "model = Sequential()\n",
    "model.add(Dense(units = 2, activation='sigmoid',input_dim = 2))\n",
    "model.add(Dense(units = 2, activation = 'softmax'))"
   ]
  },
  {
   "cell_type": "code",
   "execution_count": 35,
   "metadata": {},
   "outputs": [],
   "source": [
    "model.compile(loss = 'categorical_crossentropy', \n",
    "             optimizer = 'sgd',\n",
    "             metrics = ['accuracy'])\n"
   ]
  },
  {
   "cell_type": "code",
   "execution_count": 36,
   "metadata": {},
   "outputs": [
    {
     "name": "stdout",
     "output_type": "stream",
     "text": [
      "[[0 0]\n",
      " [0 0]\n",
      " [1 0]\n",
      " ...\n",
      " [0 1]\n",
      " [1 1]\n",
      " [0 0]]\n",
      "[[1. 0.]\n",
      " [1. 0.]\n",
      " [0. 1.]\n",
      " ...\n",
      " [0. 1.]\n",
      " [1. 0.]\n",
      " [1. 0.]]\n"
     ]
    }
   ],
   "source": [
    "n = 10000 # ddataset size\n",
    "x = [[random.randint(0,1),random.randint(0,1)] for i in range(n)]\n",
    "y = [i^j for i,j in x]\n",
    "x = np.array(x)\n",
    "y = np.reshape(y, (-1,1))\n",
    "from keras.utils import to_categorical\n",
    "y = to_categorical(y)\n",
    "print(x)\n",
    "print(y)"
   ]
  },
  {
   "cell_type": "code",
   "execution_count": null,
   "metadata": {},
   "outputs": [
    {
     "name": "stdout",
     "output_type": "stream",
     "text": [
      "Epoch 1/10\n",
      "10000/10000 [==============================] - 5s 548us/step - loss: 0.4802 - acc: 0.7458\n",
      "Epoch 2/10\n",
      "10000/10000 [==============================] - 6s 550us/step - loss: 0.4800 - acc: 0.7458\n",
      "Epoch 3/10\n",
      "10000/10000 [==============================] - 5s 543us/step - loss: 0.4804 - acc: 0.7458\n",
      "Epoch 4/10\n",
      "  926/10000 [=>............................] - ETA: 4s - loss: 0.4917 - acc: 0.7451"
     ]
    }
   ],
   "source": [
    "model.fit(x, y, epochs = 10, batch_size = 1)"
   ]
  },
  {
   "cell_type": "code",
   "execution_count": 38,
   "metadata": {},
   "outputs": [
    {
     "data": {
      "text/plain": [
       "array([[0.33834326, 0.6616567 ],\n",
       "       [0.33834326, 0.6616567 ],\n",
       "       [0.33834326, 0.6616567 ],\n",
       "       ...,\n",
       "       [0.33834326, 0.6616567 ],\n",
       "       [0.9967853 , 0.00321473],\n",
       "       [0.33834326, 0.6616567 ]], dtype=float32)"
      ]
     },
     "execution_count": 38,
     "metadata": {},
     "output_type": "execute_result"
    }
   ],
   "source": [
    "model.predict(x)"
   ]
  }
 ],
 "metadata": {
  "kernelspec": {
   "display_name": "Python 3",
   "language": "python",
   "name": "python3"
  },
  "language_info": {
   "codemirror_mode": {
    "name": "ipython",
    "version": 3
   },
   "file_extension": ".py",
   "mimetype": "text/x-python",
   "name": "python",
   "nbconvert_exporter": "python",
   "pygments_lexer": "ipython3",
   "version": "3.6.5"
  }
 },
 "nbformat": 4,
 "nbformat_minor": 2
}
