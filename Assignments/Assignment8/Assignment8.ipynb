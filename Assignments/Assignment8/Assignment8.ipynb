{
 "cells": [
  {
   "cell_type": "code",
   "execution_count": 2,
   "metadata": {},
   "outputs": [],
   "source": [
    "import numpy as np\n",
    "import csv\n",
    "import pandas as pd\n"
   ]
  },
  {
   "cell_type": "code",
   "execution_count": 3,
   "metadata": {},
   "outputs": [],
   "source": [
    "file_train = 'ATIS.txt'\n",
    "file_test = 'ATIS_RAWTEST.txt'\n"
   ]
  },
  {
   "cell_type": "code",
   "execution_count": 176,
   "metadata": {},
   "outputs": [],
   "source": [
    "sent_no = []\n",
    "word = []\n",
    "tags = []\n",
    "with open(file_train) as fil:\n",
    "    l = fil.readline()\n",
    "#     print(l.split('\\t'))\n",
    "    while l : \n",
    "        splits = l.split('\\t')\n",
    "        sent_no.append(splits[0])\n",
    "        word.append(splits[1])\n",
    "        tags.append(splits[2])\n",
    "#         print(l)\n",
    "        l = fil.readline()\n"
   ]
  },
  {
   "cell_type": "code",
   "execution_count": 177,
   "metadata": {},
   "outputs": [
    {
     "name": "stdout",
     "output_type": "stream",
     "text": [
      "flight\n"
     ]
    }
   ],
   "source": [
    "intents = []\n",
    "\n",
    "print(tags[0].split('#')[1].lstrip())\n",
    "for ta in tags:\n",
    "    if ta == '':\n",
    "        continue\n",
    "    else:\n",
    "        intents.append(ta.split('#')[1].lstrip())"
   ]
  },
  {
   "cell_type": "code",
   "execution_count": 178,
   "metadata": {},
   "outputs": [],
   "source": [
    "words = []\n",
    "for w in word:\n",
    "    words.append(w.split(\"#\")[1].lstrip())"
   ]
  },
  {
   "cell_type": "code",
   "execution_count": 179,
   "metadata": {},
   "outputs": [],
   "source": [
    "sentences = []\n",
    "# intents = []\n",
    "for i in range(len(words)):\n",
    "    if words[i] == \"BOS\":\n",
    "        i = i + 1\n",
    "        # start extracting the sentence\n",
    "        sent = ''\n",
    "        while words[i] != \"EOS\":\n",
    "            sent = sent + \" \" + words[i]\n",
    "            i = i + 1\n",
    "        sentences.append(sent)\n",
    "    "
   ]
  },
  {
   "cell_type": "code",
   "execution_count": 180,
   "metadata": {},
   "outputs": [
    {
     "name": "stdout",
     "output_type": "stream",
     "text": [
      "9956\n",
      "9956\n"
     ]
    }
   ],
   "source": [
    "print(len(intents)) ## y \n",
    "print(len(sentences)) ## X"
   ]
  },
  {
   "cell_type": "code",
   "execution_count": 181,
   "metadata": {},
   "outputs": [],
   "source": [
    "from keras.models import Sequential\n",
    "from keras.layers import Dense\n",
    "from keras.utils import to_categorical\n",
    "from keras.preprocessing.text import text_to_word_sequence"
   ]
  },
  {
   "cell_type": "code",
   "execution_count": 182,
   "metadata": {},
   "outputs": [
    {
     "name": "stdout",
     "output_type": "stream",
     "text": [
      "{'takeoffs', 'live', 'ac', 'please', 'guardia', 'fourth', 'return', 'later', 'local', 'stand', 'dollars', '400', 'oh', '98', 'fifth', 'departs', 'taxi', 'minnesota', 'transcontinental', '466', 'ticket', 'sa', 'just', 'longest', 'lax', 'afterwards', '459', 'reverse', 'instead', '1110', 's', 'nashville', 'they', 'bur', 'anywhere', 'rate', 'near', 'need', 'florida', 'same', '755', 'as', '932', 'airports', 'far', 'lunch', 'fifteen', 'cheap', '305', 'tower', 'via', 'trying', 'when', 'cover', 'don', 'a', 'west', 'some', 'book', 'very', '720', 'kinds', 'us', 'visit', 'where', 'thirteenth', 'more', 'm', '137338', 'highest', '230', 'thursdays', 'hou', 'ohio', 'wish', 'see', 'fares', 'planes', 'economic', 'michigan', 'carries', '1600', '1020', 'los', 'scheduled', 'fridays', 'travels', 'come', 'mco', 'soon', 'give', '2134', 'georgia', '4', 'seven', '201', '813', 'meal', 'itinerary', '1765', '343', 'discount', 'who', 'traveling', 'off', 'philly', 'bay', '718', 'cleveland', 'sixteen', '928', 'rent', '823', 'atlanta', 'with', \"'m\", 'this', 'show', 'bna', 'carolina', 'get', 'missouri', 'reservation', 'trip', 'goes', 'phoenix', 'dc10', 'locate', '323', 'h', 'dinner', 'operation', '767', 'determine', 'francisco', 'tomorrow', 'actually', '819', '1130', 'home', 'different', 'tickets', 'grounds', '1158', 'twelve', 'ontario', '1222', 'march', 'twa', 'schedule', 'tampa', '1039', 'other', 'friends', 'continental', 'las', '417', 'these', 'lufthansa', 'y', 'stapleton', 'dinnertime', 'preferably', 'order', 'ls', 'having', 'fort', '1055', 'week', 'right', 'boeing', '80', 'colorado', 'summer', 'staying', 'into', 'numbers', '3357', 'twenty', 'now', '163', 'straight', 'nonstops', 'between', 'hours', '1', 'stopover', 'day', 'fare', 'let', 'oak', 'oakland', '1209', 'nonstop', 'qualify', 'route', '845', 'evening', 'cheapest', 'times', 'thirty', 'jose', 'listings', 'those', 'reaching', 'newark', 'database', 'united', 'must', 'friday', 'connection', '281', '727', '1030', '139', 'out', \"'ve\", 'direct', '217', 'kindly', 'hello', 'america', '645', 'total', 'midnight', 'ap57', 'tuesdays', '734', 'jet', '329', 'north', 'philadelphia', 'indianapolis', 'california', 'and', '212', 'dl', 'know', 'toronto', 'services', 'able', 'will', '43', '200', 'express', 'time', 'help', 'angeles', 'boston', 'tacoma', 'qw', \"'t\", 'stops', 'somebody', 'rentals', 'seventh', 'quebec', '21', 'landings', 'texas', '1993', 'beginning', 'serves', 'looking', 'put', 'morning', 'fourteenth', '852', 'serviced', \"'hare\", 'ground', 'place', 'jfk', '402', 'pearson', 'mondays', 'price', 'vicinity', 'new', 'number', 'lake', '345', 'takeoff', 'denver', 'sundays', 'lowest', 'or', 'meaning', '300', 'got', 'calling', 'thereafter', 'san', 'thursday', 'september', 'rates', 'besides', '1220', '315', '2100', 'salt', '1059', 'saturday', '1024', 'logan', 'vegas', 'sorry', 'd10', 'do', 'working', 'arrangements', 'offered', 'be', '57', 'well', 'carried', 'sure', '2153', 'paul', 'am', 'designate', 'many', 'being', 'still', '3', 'connect', '1991', 'thrift', '71', 'tuesday', 'three', 'information', 'depart', 'bring', 'transportation', 'burbank', 'snack', 'kansas', 'names', 'plane', '555', '747', 'orlando', '746', 'miami', 'across', 'listing', '405', 'run', 'uses', 'stopping', 'greatest', 'april', 'eastern', '296', 'aircraft', 'find', 'doesn', 'you', 'we', 'people', 'travel', '210', 'atl', 'arrive', 'bound', 'once', 'okay', 'booking', 'provided', 'both', 'milwaukee', 'columbus', 'define', 'limo', 'm80', 'airplanes', 'ninth', 'most', 'abbreviations', '9', 'use', 'largest', 'dc', 'scenario', 'that', 'eleventh', '416', 'restriction', 'airline', 'worth', 'fifteenth', 'no', 'ap80', 'only', 'operating', 'eleven', 'coach', 'sounds', 'less', 'inform', 'town', '0900', 'arrives', 'are', 'it', 'next', 'so', 'last', 'mitchell', '733', 'mia', 'up', 'cincinnati', 'currently', 'thank', 'second', 'my', 'eighteenth', 'arriving', 'nationair', 'repeat', 'during', 'list', 'thing', 'takes', 'reservations', 'downtown', 'sfo', 'dallas', 'smallest', '257', '1115', 'flies', 'fit', '2', 'year', '311', 'wanted', 'around', 'difference', 'breakfast', 'start', 'arrival', 'twelfth', '1145', 'choices', '428', 'sixth', 'noon', 'take', 'if', '420', 'june', \"'s\", 'lester', 'ff', 'fly', '497766', '705', 'which', 'approximately', 'dfw', 'gets', 'offer', 'minneapolis', 'canada', 'would', 'name', 'lastest', 'by', 'detroit', 'airport', 'over', 'rental', 'round', 'q', 'types', 'chicago', 'area', 'limousines', 'taking', 'advertises', 'provide', 'zone', 'offers', 'regarding', 'to', 'sunday', 'all', 'includes', 'connecting', 'connections', '324', 'alaska', 'usa', 'petersburg', 'pm', 'say', 'midway', 'including', 'hp', 'jersey', 'prices', '279', 'after', 'repeating', 'yyz', 'an', '1200', 'stands', 'weekday', 'aa', 'them', 'overnight', '515', 'nineteenth', 'hi', '229', '615', '630', 'yn', 'such', 'symbols', 'inexpensive', '1500', 'closest', 'nighttime', 'seat', 'much', '4400', '445', 'distance', '352', 'try', '810', '82', 'general', '124', '723', 'thanks', 'cost', 'canadian', 'again', '1100', 'd9s', 'like', 'nw', '934', 'delta', 'leaving', '8', 'ua', 'wednesday', 'early', '815', '269', 'what', 'nevada', 'class', 'mornings', 'qx', 'costs', 'planning', '757', 'explain', 'baltimore', 'before', '10', 'continuing', 'intercontinental', 'ewr', 'located', 'nights', 'requesting', 'flight', 'how', 'transport', 'january', 'departure', 'cp', 'february', 'expensive', '73s', '6', 'has', 'arrange', 'air', 'anything', 'seats', '1992', 'begins', 'another', 'sixteenth', 'sort', 'eight', 'close', 'at', 'using', 'departing', 'also', 'type', 'charges', 'afternoons', 'whether', 'provides', 'within', 'pittsburgh', 'me', 'indiana', '271', '1505', 'international', 'arizona', 'back', 'enroute', 'ea', 'each', 'business', \"'ll\", '530', 'flights', 'f28', 'great', 'maximum', 'returning', 'monday', 'makes', 'capacity', 'limousine', '55', 'through', 'j31', \"'re\", '505', 'toward', 'making', 'six', 'tenth', 'code', 'eye', 'co', '12', 'southwest', '19', '150', '225', 'on', 'wednesdays', '771', 'train', 'st', 'arrivals', 'can', 'thirtieth', 'red', 'afternoon', 'without', '539', 'is', 'ord', 'airfares', 'ap', 'tell', 'should', '1700', 'iah', 'under', 'either', '838', 'interested', 'options', 'eighth', 'november', 'layover', 'tonight', 'possible', 'utah', 'o', 'cities', '1940', 'sometime', 'concerning', 'their', 'going', 'world', 'december', 'pennsylvania', 'have', 'seating', 'originate', '297', 'companies', 'does', 'august', 'first', 'qo', '1205', 'washington', 'ten', 'field', '737', '430', 'four', 'tennessee', '1000', '1133', 'airlines', 'c', 'city', 'go', 'meals', 'bwi', 'restrictions', 'hold', 'serve', 'prefer', 'seventeenth', 'any', 'originating', 'then', 'non', 'while', 'hartfield', 'seventeen', 'airfare', 'beach', '7', 'stopovers', 'along', 'night', '1017', 'i', 'display', 'plan', 'your', 'cars', 'used', 'belong', 'could', 'trans', 'single', 'landing', 'available', 'late', 'in', 'reaches', '3724', 'turboprop', '1288', 'lands', 'describe', 'fn', 'coming', 'question', 'ap68', \"'d\", 'codes', 'level', '1026', 'wants', 'land', '110', 'love', 'serving', 'american', 'mean', 'served', 'twentieth', 'kind', 'abbreviation', '270', '1245', 'else', 'make', 'service', 'flying', 'minimum', 'noontime', '500', '1300', 'various', 'county', 'northwest', 'here', 'destination', '1850', 'leave', 'charlotte', 'represented', 'houston', 'final', 'memphis', 'd', 'month', 'way', 'october', 'runs', '106', 'connects', 'but', 'include', 'amount', 'passengers', 'classes', 'look', 'yes', '130', 'equal', '415', 'f', 'earlier', 'earliest', 'york', 'from', 'for', '5', 'starting', '1083', 'seattle', 'today', 'schedules', 'one', 'daily', 'b', '825', 'may', '1291', 'priced', '100', 'supper', 'following', 'laying', 'equipment', '1230', '72s', 'the', 'stop', 'departures', 'spend', 'fine', 'want', 'of', 'trips', \"o'clock\", 'about', 'third', 'two', 'weekdays', 'louis', 'westchester', 'airplane', 'k', 'mealtime', 'continent', 'everywhere', 'date', 'july', 'long', '11', 'montreal', 'diego', 'leaves', 'heading', '1045', 'listed', 'than', 'hopefully', 'there', 'la', 'lives', '650', 'buy', 'shortest', 'days', 'midwest', 'dulles', 'economy', 'too', 'least', 'directly', 'latest', 'saturdays', 'sd', 'car', 'proper', 'capacities', '730', 'catch'}\n",
      "889\n"
     ]
    }
   ],
   "source": [
    "vocab = \" \".join(sentences)\n",
    "print(set(text_to_word_sequence(vocab)))\n",
    "vocab_size = len(set(text_to_word_sequence(vocab)))\n",
    "print(vocab_size)"
   ]
  },
  {
   "cell_type": "code",
   "execution_count": 183,
   "metadata": {},
   "outputs": [],
   "source": [
    "from keras.preprocessing.text import Tokenizer\n",
    "t = Tokenizer()\n",
    "t.fit_on_texts(sentences)"
   ]
  },
  {
   "cell_type": "code",
   "execution_count": 184,
   "metadata": {},
   "outputs": [
    {
     "name": "stdout",
     "output_type": "stream",
     "text": [
      "OrderedDict([('i', 1994), ('want', 314), ('to', 8616), ('fly', 548), ('from', 7432), ('boston', 2140), ('at', 324), ('838', 10), ('am', 256), ('and', 1572), ('arrive', 282), ('in', 1710), ('denver', 1984), ('1110', 4), ('the', 4190), ('morning', 576), ('what', 2692), ('flights', 4866), ('are', 916), ('available', 382), ('pittsburgh', 1374), ('baltimore', 1236), ('on', 2990), ('thursday', 288), ('is', 1328), ('arrival', 10), ('time', 84), ('san', 2008), ('francisco', 1736), ('for', 552), ('755', 4), ('flight', 2342), ('leaving', 628), ('washington', 680), ('cheapest', 418), ('airfare', 36), ('tacoma', 84), ('orlando', 178), ('round', 404), ('trip', 436), ('fares', 348), ('philadelphia', 1176), ('under', 22), ('1000', 52), ('dollars', 102), ('need', 404), ('a', 1800), ('tomorrow', 138), ('columbus', 62), ('minneapolis', 94), ('kind', 58), ('of', 764), ('aircraft', 138), ('used', 64), ('cleveland', 136), ('dallas', 1306), ('show', 2108), ('me', 2522), ('los', 130), ('angeles', 130), ('all', 1208), ('ground', 446), ('transportation', 420), ('diego', 178), ('newark', 212), ('by', 108), ('way', 314), ('houston', 170), (\"'s\", 206), ('airport', 276), ('bwi', 30), ('after', 458), ('6', 116), ('pm', 580), ('first', 490), ('class', 406), ('before', 362), ('7', 92), ('information', 260), ('tuesday', 272), ('please', 612), ('give', 338), ('next', 176), ('week', 36), ('would', 548), ('like', 968), ('united', 278), ('airlines', 850), ('list', 880), ('kinds', 6), ('planes', 16), ('american', 344), (\"'d\", 444), ('have', 362), ('some', 16), ('ticket', 98), ('atlanta', 1514), ('book', 76), ('which', 348), ('airline', 178), ('serves', 62), ('wednesday', 456), ('leave', 302), ('2', 50), (\"o'clock\", 198), ('also', 38), ('service', 84), ('arriving', 384), ('noon', 222), ('fare', 518), ('new', 320), ('york', 300), ('milwaukee', 244), ('northwest', 62), ('departing', 88), ('720', 4), ('miami', 230), ('find', 242), ('delta', 226), ('numbers', 12), ('with', 370), ('st', 254), ('louis', 86), ('burbank', 48), ('sunday', 232), ('evening', 226), ('arrange', 12), ('between', 724), ('8', 102), ('friday', 180), ('how', 276), ('far', 14), ('it', 64), ('indianapolis', 164), ('florida', 24), ('twenty', 240), ('seventh', 174), ('eighth', 40), ('december', 62), ('has', 42), ('most', 34), ('arrivals', 10), ('serve', 64), ('code', 146), ('h', 20), ('fort', 180), ('worth', 180), ('both', 14), ('direct', 50), ('connecting', 40), ('that', 734), ('charlotte', 198), ('today', 32), ('times', 50), ('you', 444), ('going', 130), ('july', 180), ('go', 270), ('much', 92), ('does', 424), ('limousine', 28), ('cost', 140), ('within', 4), ('us', 174), ('air', 174), ('any', 204), ('out', 50), ('booking', 12), ('c', 4), ('know', 84), ('shortest', 18), ('see', 106), ('12', 98), ('monday', 286), ('least', 80), ('expensive', 98), ('returning', 32), ('goes', 42), ('may', 104), ('could', 98), ('tell', 170), ('toronto', 182), ('do', 194), ('city', 392), ('proper', 2), ('latest', 140), ('meal', 76), ('make', 52), ('reservation', 6), ('this', 40), ('coming', 12), ('airports', 48), ('q', 12), ('mean', 100), ('dc', 290), ('seattle', 168), ('salt', 128), ('lake', 128), ('earliest', 290), ('snack', 4), ('types', 28), ('beginning', 2), ('april', 46), ('fifth', 42), ('sixth', 30), ('august', 192), ('ninth', 32), ('back', 32), ('into', 76), ('general', 58), ('mitchell', 58), ('international', 86), ('oakland', 484), ('saturday', 190), ('twa', 104), ('display', 30), ('travel', 84), ('early', 174), ('now', 60), ('jose', 94), ('fourth', 42), ('depart', 74), ('nonstop', 284), ('4', 76), ('distance', 14), ('many', 114), ('there', 464), ('being', 2), ('served', 38), ('where', 26), ('canadian', 20), ('midnight', 10), ('stop', 186), ('stopping', 44), ('mco', 18), ('rent', 10), ('car', 46), ('phoenix', 196), ('cincinnati', 82), ('serving', 14), ('dinner', 38), ('long', 88), ('beach', 74), ('stopover', 120), ('last', 66), ('love', 62), ('field', 62), ('5', 162), ('november', 70), ('flying', 56), ('smallest', 22), ('plane', 32), ('america', 6), ('west', 6), ('or', 154), ('southwest', 10), ('kansas', 162), ('two', 36), ('classes', 26), ('june', 106), ('eleventh', 24), ('petersburg', 100), ('then', 30), ('thank', 18), ('tenth', 24), ('type', 94), ('one', 336), ('329', 2), ('okay', 76), ('get', 102), ('afternoon', 346), ('las', 220), ('vegas', 222), ('march', 16), ('second', 62), ('no', 16), ('night', 64), ('can', 250), ('economy', 72), ('sixteenth', 18), ('qw', 12), ('coach', 72), ('la', 48), ('rate', 4), ('memphis', 108), ('september', 64), ('leaves', 92), ('352', 2), ('area', 8), ('sure', 4), ('don', 2), (\"'t\", 4), ('stopovers', 10), ('only', 26), ('during', 12), ('10', 112), ('offer', 14), ('serviced', 4), ('downtown', 142), ('midwest', 28), ('express', 28), ('nineteenth', 16), ('around', 124), ('230', 8), ('chicago', 200), ('arrives', 56), ('cheap', 8), ('thrift', 10), ('return', 60), ('rentals', 6), ('1024', 2), ('tampa', 100), ('take', 48), ('continental', 194), ('less', 78), ('than', 100), ('100', 4), ('seating', 18), ('capacity', 20), ('fourteenth', 18), ('thirty', 18), ('fifteenth', 34), ('daily', 78), ('such', 2), ('abbreviations', 4), ('f', 22), ('eastern', 44), ('logan', 14), ('nashville', 98), (\"'m\", 96), ('sorry', 6), ('wanted', 2), ('guardia', 20), ('schedule', 48), ('thirtieth', 28), ('1', 26), ('852', 4), ('jersey', 20), ('ohio', 10), ('paul', 68), ('westchester', 34), ('county', 30), ('approximately', 4), ('615', 2), ('detroit', 68), ('stops', 54), ('heading', 6), ('9', 62), ('via', 36), ('an', 118), ('say', 4), ('about', 106), ('mealtime', 2), ('1991', 40), ('meals', 20), ('interested', 40), ('provides', 2), ('business', 40), ('prefer', 2), ('listing', 26), ('530', 10), ('1288', 2), ('lunch', 22), ('same', 34), ('day', 66), ('wish', 6), ('third', 56), ('tickets', 24), ('stand', 32), ('twelfth', 22), ('makes', 18), ('difference', 4), ('wednesdays', 28), ('should', 22), ('be', 50), ('close', 6), ('prices', 38), ('four', 4), ('257', 2), ('number', 44), ('twentieth', 38), ('boeing', 14), ('737', 6), ('flies', 30), ('across', 2), ('continent', 2), ('sfo', 12), ('again', 24), ('430', 10), ('seventeenth', 18), ('f28', 6), ('looking', 46), ('minnesota', 6), ('layover', 16), ('630', 12), ('overnight', 2), ('their', 10), ('highest', 4), ('trying', 12), ('connection', 4), ('those', 8), ('breakfast', 50), ('yes', 14), ('if', 20), ('airplane', 18), ('yn', 14), ('seats', 8), ('trips', 6), ('1700', 4), ('ord', 4), ('813', 6), ('using', 34), ('local', 2), ('2134', 4), ('nationair', 10), ('qx', 24), ('montreal', 110), ('maximum', 6), ('colorado', 20), ('pennsylvania', 8), ('my', 18), ('choices', 6), ('lowest', 72), ('through', 34), ('route', 2), ('dl', 42), ('746', 2), ('transport', 22), ('ontario', 36), ('represented', 2), ('database', 4), ('trans', 2), ('world', 2), ('1030', 2), ('1130', 2), ('discount', 2), ('hi', 18), ('tower', 4), ('saturdays', 8), ('either', 24), (\"'re\", 16), ('1765', 4), ('2153', 2), ('will', 38), ('as', 48), ('soon', 4), ('thereafter', 2), ('possible', 48), ('eight', 4), ('sixteen', 8), ('jfk', 10), ('late', 42), ('restriction', 44), ('ap', 30), ('57', 20), ('71', 2), ('up', 4), ('466', 14), ('eighteenth', 10), ('days', 10), ('each', 14), ('supper', 2), ('3', 36), ('bna', 2), ('106', 2), ('offers', 6), ('costs', 10), ('rental', 34), ('1100', 12), ('11', 14), ('departures', 8), ('explain', 20), ('80', 6), ('passengers', 8), ('fit', 6), ('d9s', 2), ('arrangements', 34), ('your', 32), ('rates', 8), ('abbreviation', 14), ('starting', 10), ('afterwards', 2), ('dfw', 16), ('345', 2), ('october', 24), ('price', 42), ('19', 2), ('y', 18), ('hello', 8), ('provided', 10), ('other', 34), ('north', 24), ('carolina', 24), ('but', 16), ('quebec', 4), ('california', 64), ('canada', 12), ('originate', 4), ('82', 2), ('139', 2), ('repeating', 2), ('420', 2), ('let', 12), ('look', 4), ('ua', 36), ('281', 12), ('m80', 4), ('1115', 8), ('1245', 8), ('m', 4), ('sa', 6), ('land', 8), ('regarding', 2), ('january', 18), ('name', 10), ('takeoffs', 12), ('landings', 16), ('later', 12), ('72s', 4), ('fn', 6), ('nights', 2), ('hp', 14), ('cp', 4), ('uses', 14), ('seven', 2), ('carries', 4), ('qo', 12), ('co', 6), ('restrictions', 4), ('416', 2), ('so', 8), ('here', 4), ('services', 6), ('1992', 8), ('weekday', 18), ('kindly', 2), ('limousines', 2), ('taxi', 6), ('825', 8), ('when', 18), ('555', 6), ('201', 4), ('place', 2), ('includes', 2), ('help', 8), ('1026', 2), ('124', 2), ('lufthansa', 10), ('fifteen', 2), ('plan', 6), ('six', 8), ('oh', 2), ('define', 6), ('live', 18), ('ff', 10), ('year', 2), ('tuesdays', 8), ('total', 8), ('connect', 8), ('ea', 10), ('747', 10), ('including', 2), ('connections', 6), ('o', 2), (\"'hare\", 2), ('718', 8), ('use', 14), ('philly', 4), ('815', 2), ('928', 2), ('located', 4), ('bur', 2), ('thursdays', 6), ('departure', 18), ('ap57', 8), ('dinnertime', 4), ('traveling', 16), ('315', 2), ('1291', 6), ('following', 8), ('1039', 4), ('lastest', 4), ('longest', 2), ('amount', 8), ('21', 6), ('1222', 4), ('over', 14), ('grounds', 2), ('200', 2), ('they', 4), ('just', 4), ('must', 2), ('2100', 8), ('operation', 2), ('d', 4), ('s', 8), ('297', 2), ('question', 2), ('more', 8), ('texas', 6), ('nw', 6), ('laying', 2), ('limo', 4), ('650', 2), ('tonight', 2), ('ewr', 18), ('3724', 4), ('ls', 2), ('describe', 6), ('originating', 6), ('210', 4), ('stapleton', 4), ('who', 4), ('making', 10), ('343', 4), ('1600', 2), ('hours', 14), ('options', 6), ('noontime', 6), ('ten', 6), ('people', 16), ('1145', 4), ('inform', 2), ('k', 2), ('weekdays', 8), ('cities', 44), ('schedules', 4), ('932', 4), ('nonstops', 4), ('near', 8), ('aa', 2), ('459', 2), ('tennessee', 6), ('calling', 2), ('designate', 2), ('without', 4), ('spend', 2), ('hou', 2), ('1220', 2), ('directly', 2), ('mornings', 10), ('landing', 4), ('reverse', 2), ('b', 4), ('codes', 14), ('belong', 2), ('445', 2), ('515', 2), ('midway', 4), ('217', 4), ('sometime', 10), ('150', 2), ('dc10', 6), ('110', 2), ('connects', 2), ('charges', 2), ('minimum', 2), ('intercontinental', 2), ('bound', 4), ('727', 4), ('takeoff', 4), ('seat', 2), ('final', 2), ('destination', 8), ('different', 6), ('capacities', 2), ('296', 6), ('324', 4), ('823', 2), ('1059', 2), ('271', 2), ('alaska', 4), ('934', 6), ('michigan', 4), ('able', 2), ('put', 2), ('locate', 2), ('hartfield', 2), ('scheduled', 2), ('train', 4), ('225', 2), ('1158', 2), ('equipment', 2), ('begins', 2), ('lands', 2), ('reaches', 2), ('carried', 2), ('these', 10), ('indiana', 2), ('well', 6), (\"'ll\", 10), ('try', 2), ('right', 16), ('130', 2), ('arizona', 4), ('continuing', 2), ('include', 6), ('lester', 2), ('pearson', 2), ('along', 4), ('friends', 4), ('everywhere', 2), ('thirteenth', 4), ('transcontinental', 4), ('73s', 2), ('whether', 2), ('offered', 2), ('we', 6), ('missouri', 4), ('utah', 4), ('another', 8), ('cars', 6), ('usa', 2), ('red', 2), ('eye', 2), ('1045', 2), ('georgia', 8), ('dulles', 4), ('currently', 2), ('anywhere', 10), ('reservations', 4), ('visit', 2), ('them', 2), ('lives', 4), ('55', 2), ('determine', 2), ('thing', 2), ('705', 2), ('fridays', 2), ('catch', 2), ('straight', 2), ('767', 4), ('269', 4), ('planning', 2), ('listed', 2), ('1055', 2), ('405', 2), ('departs', 8), ('equal', 2), ('ac', 4), ('provide', 6), ('hopefully', 2), ('turboprop', 6), ('symbols', 2), ('sort', 2), ('cover', 2), ('810', 2), ('operating', 2), ('sundays', 6), ('february', 12), ('1205', 2), ('757', 4), ('mondays', 2), ('270', 6), ('733', 2), ('atl', 4), ('requesting', 8), ('meaning', 6), ('besides', 2), ('too', 4), ('month', 4), (\"'ve\", 2), ('got', 2), ('somebody', 2), ('else', 2), ('wants', 2), ('level', 2), ('vicinity', 2), ('taking', 4), ('311', 2), ('mia', 2), ('instead', 2), ('repeat', 4), ('eleven', 2), ('off', 2), ('415', 6), ('greatest', 2), ('summer', 2), ('300', 2), ('lax', 2), ('economic', 2), ('bay', 2), ('402', 2), ('845', 4), ('j31', 2), ('date', 2), ('1020', 2), ('730', 2), ('400', 2), ('doesn', 2), ('1993', 2), ('toward', 2), ('home', 2), ('1850', 2), ('1505', 2), ('runs', 2), ('stands', 6), ('723', 2), ('thanks', 2), ('bring', 2), ('zone', 2), ('yyz', 2), ('airplanes', 4), ('non', 2), ('buy', 4), ('500', 2), ('airfares', 2), ('come', 2), ('428', 2), ('98', 2), ('qualify', 2), ('279', 2), ('137338', 2), ('d10', 2), ('539', 2), ('fine', 2), ('while', 2), ('1200', 2), ('ap80', 6), ('concerning', 2), ('iah', 2), ('1230', 2), ('still', 4), ('preferably', 2), ('itinerary', 4), ('3357', 2), ('323', 2), ('229', 2), ('inexpensive', 2), ('actually', 4), ('734', 2), ('earlier', 4), ('1017', 2), ('1083', 2), ('0900', 2), ('645', 2), ('single', 2), ('ap68', 2), ('4400', 2), ('1133', 2), ('43', 2), ('once', 2), ('town', 2), ('various', 4), ('212', 2), ('reaching', 4), ('305', 2), ('anything', 2), ('771', 2), ('very', 4), ('jet', 2), ('nevada', 2), ('staying', 2), ('travels', 2), ('order', 2), ('497766', 2), ('sounds', 2), ('great', 6), ('three', 6), ('start', 2), ('run', 2), ('1500', 2), ('hold', 2), ('listings', 2), ('1209', 2), ('sd', 2), ('1300', 2), ('enroute', 2), ('takes', 2), ('advertises', 2), ('having', 2), ('names', 4), ('seventeen', 2), ('companies', 2), ('1940', 2), ('priced', 2), ('closest', 2), ('gets', 2), ('afternoons', 2), ('largest', 2), ('oak', 2), ('twelve', 2), ('505', 4), ('163', 2), ('nighttime', 2), ('819', 2), ('417', 2), ('working', 2), ('scenario', 2)])\n",
      "9956\n",
      "{'to': 1, 'from': 2, 'flights': 3, 'the': 4, 'on': 5, 'what': 6, 'me': 7, 'flight': 8, 'boston': 9, 'show': 10, 'san': 11, 'i': 12, 'denver': 13, 'a': 14, 'francisco': 15, 'in': 16, 'and': 17, 'atlanta': 18, 'pittsburgh': 19, 'is': 20, 'dallas': 21, 'baltimore': 22, 'all': 23, 'philadelphia': 24, 'like': 25, 'are': 26, 'list': 27, 'airlines': 28, 'of': 29, 'that': 30, 'between': 31, 'washington': 32, 'leaving': 33, 'please': 34, 'pm': 35, 'morning': 36, 'for': 37, 'fly': 38, 'would': 39, 'fare': 40, 'first': 41, 'oakland': 42, 'there': 43, 'after': 44, 'wednesday': 45, 'ground': 46, \"'d\": 47, 'you': 48, 'trip': 49, 'does': 50, 'transportation': 51, 'cheapest': 52, 'class': 53, 'round': 54, 'need': 55, 'city': 56, 'arriving': 57, 'available': 58, 'with': 59, 'before': 60, 'have': 61, 'fares': 62, 'which': 63, 'afternoon': 64, 'american': 65, 'give': 66, 'one': 67, 'at': 68, 'new': 69, 'want': 70, 'way': 71, 'leave': 72, 'york': 73, 'dc': 74, 'earliest': 75, 'thursday': 76, 'monday': 77, 'nonstop': 78, 'arrive': 79, 'united': 80, 'airport': 81, 'how': 82, 'tuesday': 83, 'go': 84, 'information': 85, 'am': 86, 'st': 87, 'can': 88, 'milwaukee': 89, 'find': 90, 'twenty': 91, 'sunday': 92, 'miami': 93, 'delta': 94, 'evening': 95, 'noon': 96, 'vegas': 97, 'las': 98, 'newark': 99, \"'s\": 100, 'any': 101, 'chicago': 102, \"o'clock\": 103, 'charlotte': 104, 'phoenix': 105, 'do': 106, 'continental': 107, 'august': 108, 'saturday': 109, 'stop': 110, 'toronto': 111, 'friday': 112, 'fort': 113, 'worth': 114, 'july': 115, 'orlando': 116, 'diego': 117, 'airline': 118, 'next': 119, 'seventh': 120, 'us': 121, 'air': 122, 'early': 123, 'houston': 124, 'tell': 125, 'seattle': 126, 'indianapolis': 127, '5': 128, 'kansas': 129, 'or': 130, 'code': 131, 'downtown': 132, 'cost': 133, 'latest': 134, 'tomorrow': 135, 'aircraft': 136, 'cleveland': 137, 'los': 138, 'angeles': 139, 'going': 140, 'salt': 141, 'lake': 142, 'around': 143, 'stopover': 144, 'an': 145, '6': 146, 'many': 147, '10': 148, 'montreal': 149, 'by': 150, 'memphis': 151, 'see': 152, 'june': 153, 'about': 154, 'may': 155, 'twa': 156, 'dollars': 157, '8': 158, 'get': 159, 'mean': 160, 'petersburg': 161, 'tampa': 162, 'than': 163, 'ticket': 164, '12': 165, 'expensive': 166, 'could': 167, 'nashville': 168, \"'m\": 169, 'minneapolis': 170, 'jose': 171, 'type': 172, '7': 173, 'much': 174, 'leaves': 175, 'departing': 176, 'long': 177, 'louis': 178, 'international': 179, 'time': 180, 'tacoma': 181, 'service': 182, 'know': 183, 'travel': 184, 'cincinnati': 185, 'least': 186, 'less': 187, 'daily': 188, 'book': 189, 'meal': 190, 'into': 191, '4': 192, 'okay': 193, 'depart': 194, 'beach': 195, 'economy': 196, 'coach': 197, 'lowest': 198, 'november': 199, 'paul': 200, 'detroit': 201, 'last': 202, 'day': 203, 'used': 204, 'it': 205, 'serve': 206, 'night': 207, 'september': 208, 'california': 209, 'columbus': 210, 'serves': 211, 'northwest': 212, 'december': 213, 'love': 214, 'field': 215, 'second': 216, '9': 217, 'now': 218, 'return': 219, 'kind': 220, 'general': 221, 'mitchell': 222, 'flying': 223, 'arrives': 224, 'third': 225, 'stops': 226, '1000': 227, 'make': 228, '2': 229, 'direct': 230, 'times': 231, 'out': 232, 'be': 233, 'breakfast': 234, 'burbank': 235, 'airports': 236, 'la': 237, 'take': 238, 'schedule': 239, 'as': 240, 'possible': 241, 'april': 242, 'car': 243, 'looking': 244, 'stopping': 245, 'eastern': 246, 'number': 247, 'restriction': 248, 'cities': 249, 'has': 250, 'goes': 251, 'fifth': 252, 'fourth': 253, 'dl': 254, 'late': 255, 'price': 256, 'eighth': 257, 'connecting': 258, 'this': 259, '1991': 260, 'interested': 261, 'business': 262, 'also': 263, 'served': 264, 'dinner': 265, 'prices': 266, 'twentieth': 267, 'will': 268, 'airfare': 269, 'week': 270, 'two': 271, 'via': 272, 'ontario': 273, '3': 274, 'ua': 275, 'most': 276, 'fifteenth': 277, 'westchester': 278, 'same': 279, 'using': 280, 'through': 281, 'rental': 282, 'arrangements': 283, 'other': 284, 'today': 285, 'returning': 286, 'ninth': 287, 'back': 288, 'plane': 289, 'stand': 290, 'your': 291, 'bwi': 292, 'sixth': 293, 'display': 294, 'then': 295, 'county': 296, 'flies': 297, 'ap': 298, 'limousine': 299, 'types': 300, 'midwest': 301, 'express': 302, 'thirtieth': 303, 'wednesdays': 304, 'where': 305, 'classes': 306, 'only': 307, '1': 308, 'listing': 309, 'florida': 310, 'eleventh': 311, 'tenth': 312, 'tickets': 313, 'again': 314, 'qx': 315, 'either': 316, 'october': 317, 'north': 318, 'carolina': 319, 'under': 320, 'smallest': 321, 'f': 322, 'lunch': 323, 'twelfth': 324, 'should': 325, 'transport': 326, 'h': 327, 'canadian': 328, 'capacity': 329, 'guardia': 330, 'jersey': 331, 'meals': 332, 'if': 333, 'colorado': 334, '57': 335, 'explain': 336, 'shortest': 337, 'mco': 338, 'thank': 339, 'sixteenth': 340, 'seating': 341, 'fourteenth': 342, 'thirty': 343, 'makes': 344, 'seventeenth': 345, 'airplane': 346, 'my': 347, 'hi': 348, 'y': 349, 'january': 350, 'weekday': 351, 'when': 352, 'live': 353, 'departure': 354, 'ewr': 355, 'planes': 356, 'some': 357, 'march': 358, 'no': 359, 'nineteenth': 360, 'layover': 361, \"'re\": 362, 'dfw': 363, 'but': 364, 'landings': 365, 'traveling': 366, 'people': 367, 'right': 368, 'far': 369, 'both': 370, 'distance': 371, 'serving': 372, 'offer': 373, 'logan': 374, 'boeing': 375, 'yes': 376, 'yn': 377, '466': 378, 'each': 379, '11': 380, 'abbreviation': 381, 'hp': 382, 'uses': 383, 'use': 384, 'over': 385, 'hours': 386, 'codes': 387, 'numbers': 388, 'arrange': 389, 'booking': 390, 'coming': 391, 'q': 392, 'qw': 393, 'during': 394, 'sfo': 395, '630': 396, 'trying': 397, '1100': 398, 'canada': 399, 'let': 400, '281': 401, 'takeoffs': 402, 'later': 403, 'qo': 404, 'february': 405, '838': 406, 'arrival': 407, 'arrivals': 408, 'midnight': 409, 'rent': 410, 'southwest': 411, 'stopovers': 412, 'thrift': 413, 'ohio': 414, '530': 415, '430': 416, 'their': 417, 'nationair': 418, 'jfk': 419, 'eighteenth': 420, 'days': 421, 'costs': 422, 'starting': 423, 'provided': 424, 'name': 425, 'lufthansa': 426, 'ff': 427, 'ea': 428, '747': 429, 'making': 430, 'mornings': 431, 'sometime': 432, 'these': 433, \"'ll\": 434, 'anywhere': 435, 'area': 436, '230': 437, 'cheap': 438, 'those': 439, 'seats': 440, 'pennsylvania': 441, 'saturdays': 442, 'sixteen': 443, 'departures': 444, 'passengers': 445, 'rates': 446, 'hello': 447, '1115': 448, '1245': 449, 'land': 450, 'so': 451, '1992': 452, '825': 453, 'help': 454, 'six': 455, 'tuesdays': 456, 'total': 457, 'connect': 458, '718': 459, 'ap57': 460, 'following': 461, 'amount': 462, '2100': 463, 's': 464, 'more': 465, 'weekdays': 466, 'near': 467, 'destination': 468, 'another': 469, 'georgia': 470, 'departs': 471, 'requesting': 472, 'kinds': 473, 'reservation': 474, 'america': 475, 'west': 476, 'rentals': 477, 'sorry': 478, 'heading': 479, 'wish': 480, 'close': 481, '737': 482, 'f28': 483, 'minnesota': 484, 'trips': 485, '813': 486, 'maximum': 487, 'choices': 488, 'offers': 489, '80': 490, 'fit': 491, 'sa': 492, 'fn': 493, 'co': 494, 'services': 495, 'taxi': 496, '555': 497, 'plan': 498, 'define': 499, 'connections': 500, 'thursdays': 501, '1291': 502, '21': 503, 'texas': 504, 'nw': 505, 'describe': 506, 'originating': 507, 'options': 508, 'noontime': 509, 'ten': 510, 'tennessee': 511, 'dc10': 512, 'different': 513, '296': 514, '934': 515, 'well': 516, 'include': 517, 'we': 518, 'cars': 519, 'provide': 520, 'turboprop': 521, 'sundays': 522, '270': 523, 'meaning': 524, '415': 525, 'stands': 526, 'ap80': 527, 'great': 528, 'three': 529, '1110': 530, '755': 531, '720': 532, 'within': 533, 'c': 534, 'snack': 535, 'rate': 536, 'sure': 537, \"'t\": 538, 'serviced': 539, '100': 540, 'abbreviations': 541, '852': 542, 'approximately': 543, 'say': 544, 'difference': 545, 'four': 546, 'highest': 547, 'connection': 548, '1700': 549, 'ord': 550, '2134': 551, 'database': 552, 'tower': 553, '1765': 554, 'soon': 555, 'eight': 556, 'up': 557, 'quebec': 558, 'originate': 559, 'look': 560, 'm80': 561, 'm': 562, '72s': 563, 'cp': 564, 'carries': 565, 'restrictions': 566, 'here': 567, '201': 568, 'philly': 569, 'located': 570, 'dinnertime': 571, '1039': 572, 'lastest': 573, '1222': 574, 'they': 575, 'just': 576, 'd': 577, 'limo': 578, '3724': 579, '210': 580, 'stapleton': 581, 'who': 582, '343': 583, '1145': 584, 'schedules': 585, '932': 586, 'nonstops': 587, 'without': 588, 'landing': 589, 'b': 590, 'midway': 591, '217': 592, 'bound': 593, '727': 594, 'takeoff': 595, '324': 596, 'alaska': 597, 'michigan': 598, 'train': 599, 'arizona': 600, 'along': 601, 'friends': 602, 'thirteenth': 603, 'transcontinental': 604, 'missouri': 605, 'utah': 606, 'dulles': 607, 'reservations': 608, 'lives': 609, '767': 610, '269': 611, 'ac': 612, '757': 613, 'atl': 614, 'too': 615, 'month': 616, 'taking': 617, 'repeat': 618, '845': 619, 'airplanes': 620, 'buy': 621, 'still': 622, 'itinerary': 623, 'actually': 624, 'earlier': 625, 'various': 626, 'reaching': 627, 'very': 628, 'names': 629, '505': 630, 'proper': 631, 'beginning': 632, 'being': 633, '329': 634, '352': 635, 'don': 636, '1024': 637, 'such': 638, 'wanted': 639, '615': 640, 'mealtime': 641, 'provides': 642, 'prefer': 643, '1288': 644, '257': 645, 'across': 646, 'continent': 647, 'overnight': 648, 'local': 649, 'route': 650, '746': 651, 'represented': 652, 'trans': 653, 'world': 654, '1030': 655, '1130': 656, 'discount': 657, '2153': 658, 'thereafter': 659, '71': 660, 'supper': 661, 'bna': 662, '106': 663, 'd9s': 664, 'afterwards': 665, '345': 666, '19': 667, '82': 668, '139': 669, 'repeating': 670, '420': 671, 'regarding': 672, 'nights': 673, 'seven': 674, '416': 675, 'kindly': 676, 'limousines': 677, 'place': 678, 'includes': 679, '1026': 680, '124': 681, 'fifteen': 682, 'oh': 683, 'year': 684, 'including': 685, 'o': 686, \"'hare\": 687, '815': 688, '928': 689, 'bur': 690, '315': 691, 'longest': 692, 'grounds': 693, '200': 694, 'must': 695, 'operation': 696, '297': 697, 'question': 698, 'laying': 699, '650': 700, 'tonight': 701, 'ls': 702, '1600': 703, 'inform': 704, 'k': 705, 'aa': 706, '459': 707, 'calling': 708, 'designate': 709, 'spend': 710, 'hou': 711, '1220': 712, 'directly': 713, 'reverse': 714, 'belong': 715, '445': 716, '515': 717, '150': 718, '110': 719, 'connects': 720, 'charges': 721, 'minimum': 722, 'intercontinental': 723, 'seat': 724, 'final': 725, 'capacities': 726, '823': 727, '1059': 728, '271': 729, 'able': 730, 'put': 731, 'locate': 732, 'hartfield': 733, 'scheduled': 734, '225': 735, '1158': 736, 'equipment': 737, 'begins': 738, 'lands': 739, 'reaches': 740, 'carried': 741, 'indiana': 742, 'try': 743, '130': 744, 'continuing': 745, 'lester': 746, 'pearson': 747, 'everywhere': 748, '73s': 749, 'whether': 750, 'offered': 751, 'usa': 752, 'red': 753, 'eye': 754, '1045': 755, 'currently': 756, 'visit': 757, 'them': 758, '55': 759, 'determine': 760, 'thing': 761, '705': 762, 'fridays': 763, 'catch': 764, 'straight': 765, 'planning': 766, 'listed': 767, '1055': 768, '405': 769, 'equal': 770, 'hopefully': 771, 'symbols': 772, 'sort': 773, 'cover': 774, '810': 775, 'operating': 776, '1205': 777, 'mondays': 778, '733': 779, 'besides': 780, \"'ve\": 781, 'got': 782, 'somebody': 783, 'else': 784, 'wants': 785, 'level': 786, 'vicinity': 787, '311': 788, 'mia': 789, 'instead': 790, 'eleven': 791, 'off': 792, 'greatest': 793, 'summer': 794, '300': 795, 'lax': 796, 'economic': 797, 'bay': 798, '402': 799, 'j31': 800, 'date': 801, '1020': 802, '730': 803, '400': 804, 'doesn': 805, '1993': 806, 'toward': 807, 'home': 808, '1850': 809, '1505': 810, 'runs': 811, '723': 812, 'thanks': 813, 'bring': 814, 'zone': 815, 'yyz': 816, 'non': 817, '500': 818, 'airfares': 819, 'come': 820, '428': 821, '98': 822, 'qualify': 823, '279': 824, '137338': 825, 'd10': 826, '539': 827, 'fine': 828, 'while': 829, '1200': 830, 'concerning': 831, 'iah': 832, '1230': 833, 'preferably': 834, '3357': 835, '323': 836, '229': 837, 'inexpensive': 838, '734': 839, '1017': 840, '1083': 841, '0900': 842, '645': 843, 'single': 844, 'ap68': 845, '4400': 846, '1133': 847, '43': 848, 'once': 849, 'town': 850, '212': 851, '305': 852, 'anything': 853, '771': 854, 'jet': 855, 'nevada': 856, 'staying': 857, 'travels': 858, 'order': 859, '497766': 860, 'sounds': 861, 'start': 862, 'run': 863, '1500': 864, 'hold': 865, 'listings': 866, '1209': 867, 'sd': 868, '1300': 869, 'enroute': 870, 'takes': 871, 'advertises': 872, 'having': 873, 'seventeen': 874, 'companies': 875, '1940': 876, 'priced': 877, 'closest': 878, 'gets': 879, 'afternoons': 880, 'largest': 881, 'oak': 882, 'twelve': 883, '163': 884, 'nighttime': 885, '819': 886, '417': 887, 'working': 888, 'scenario': 889}\n",
      "defaultdict(<class 'int'>, {'fly': 536, 'am': 254, 'in': 1588, 'arrive': 278, 'boston': 2070, 'and': 1478, 'from': 7334, 'want': 304, 'i': 1836, 'morning': 564, 'at': 306, '838': 10, 'denver': 1950, 'the': 3782, 'to': 7592, '1110': 4, 'what': 2684, 'pittsburgh': 1346, 'on': 2732, 'baltimore': 1216, 'thursday': 288, 'are': 912, 'flights': 4824, 'available': 380, 'is': 1314, 'time': 84, 'flight': 2246, 'washington': 666, 'francisco': 1710, 'for': 540, 'san': 1966, '755': 4, 'leaving': 616, 'arrival': 10, 'airfare': 36, 'cheapest': 418, 'tacoma': 84, 'orlando': 172, 'round': 390, 'philadelphia': 1132, 'under': 20, 'trip': 420, 'fares': 336, '1000': 38, 'dollars': 88, 'tomorrow': 136, 'minneapolis': 92, 'need': 404, 'columbus': 62, 'a': 1650, 'aircraft': 136, 'used': 64, 'cleveland': 136, 'kind': 58, 'dallas': 1260, 'of': 742, 'show': 2104, 'me': 2514, 'los': 126, 'angeles': 126, 'all': 1200, 'transportation': 420, 'ground': 446, 'diego': 178, 'houston': 160, 'way': 312, 'by': 108, 'newark': 212, 'airport': 272, \"'s\": 206, 'bwi': 30, 'after': 448, 'pm': 562, '6': 116, 'first': 472, 'class': 400, '7': 90, 'before': 358, 'tuesday': 272, 'information': 252, 'please': 610, 'give': 338, 'next': 174, 'week': 36, 'united': 276, 'like': 932, 'would': 532, 'airlines': 842, 'list': 874, 'american': 344, 'kinds': 6, 'planes': 16, \"'d\": 426, 'some': 16, 'have': 362, 'ticket': 92, 'atlanta': 1466, 'book': 76, 'serves': 62, 'which': 348, 'airline': 174, 'leave': 292, \"o'clock\": 186, '2': 50, 'wednesday': 452, 'service': 84, 'arriving': 382, 'noon': 216, 'also': 38, 'fare': 510, 'new': 310, 'york': 290, '720': 4, 'milwaukee': 240, 'departing': 86, 'northwest': 60, 'miami': 224, 'numbers': 12, 'delta': 224, 'find': 240, 'with': 366, 'sunday': 226, 'burbank': 46, 'evening': 224, 'st': 238, 'louis': 84, 'arrange': 12, 'between': 710, 'friday': 180, '8': 102, 'far': 14, 'how': 276, 'it': 62, 'eighth': 40, 'indianapolis': 164, 'december': 60, 'seventh': 170, 'florida': 24, 'twenty': 226, 'has': 42, 'arrivals': 10, 'most': 34, 'serve': 64, 'code': 140, 'h': 20, 'that': 692, 'connecting': 40, 'fort': 178, 'worth': 178, 'both': 14, 'direct': 50, 'charlotte': 192, 'today': 32, 'going': 128, 'times': 50, 'july': 174, 'you': 432, 'go': 268, 'cost': 140, 'limousine': 28, 'much': 92, 'does': 424, 'within': 4, 'air': 174, 'us': 174, 'out': 50, 'any': 204, 'c': 4, 'booking': 12, 'shortest': 18, 'know': 82, 'monday': 286, '12': 98, 'see': 102, 'least': 80, 'expensive': 98, 'returning': 32, 'goes': 42, 'may': 104, 'tell': 168, 'toronto': 172, 'could': 98, 'do': 194, 'city': 366, 'proper': 2, 'latest': 140, 'meal': 76, 'make': 52, 'this': 40, 'coming': 10, 'reservation': 6, 'airports': 48, 'q': 12, 'mean': 100, 'dc': 288, 'salt': 126, 'lake': 126, 'seattle': 168, 'snack': 4, 'earliest': 290, 'types': 28, 'sixth': 30, 'fifth': 42, 'april': 46, 'beginning': 2, 'back': 30, 'ninth': 32, 'august': 188, 'general': 58, 'international': 86, 'into': 76, 'mitchell': 58, 'saturday': 190, 'oakland': 470, 'twa': 100, 'display': 30, 'travel': 84, 'early': 174, 'jose': 88, 'fourth': 42, 'now': 60, 'depart': 74, '4': 76, 'nonstop': 280, 'distance': 14, 'many': 114, 'there': 464, 'being': 2, 'served': 38, 'canadian': 20, 'where': 26, 'midnight': 10, 'stop': 186, 'stopping': 44, 'mco': 18, 'rent': 10, 'car': 46, 'dinner': 38, 'cincinnati': 82, 'serving': 14, 'phoenix': 192, 'beach': 72, 'long': 86, 'stopover': 120, 'field': 62, 'love': 62, 'last': 66, '5': 162, 'november': 70, 'flying': 56, 'plane': 32, 'smallest': 22, 'west': 6, 'kansas': 158, 'america': 6, 'two': 36, 'southwest': 10, 'or': 136, 'classes': 26, 'june': 104, 'thank': 18, 'eleventh': 24, 'petersburg': 100, 'then': 26, 'tenth': 24, 'type': 92, 'one': 330, '329': 2, 'get': 102, 'okay': 76, 'afternoon': 340, 'vegas': 210, 'march': 12, 'las': 208, 'second': 60, 'no': 16, 'night': 64, 'economy': 72, 'sixteenth': 18, 'can': 246, 'qw': 12, 'coach': 72, 'la': 46, 'rate': 4, 'memphis': 106, 'leaves': 90, 'september': 64, '352': 2, 'area': 8, 'sure': 4, 'during': 12, 'stopovers': 10, 'only': 26, \"'t\": 4, 'don': 2, '10': 112, 'offer': 14, 'serviced': 4, 'downtown': 142, 'express': 28, 'midwest': 28, 'nineteenth': 16, '230': 8, 'around': 122, 'chicago': 184, 'arrives': 56, 'cheap': 8, 'thrift': 10, 'return': 56, 'rentals': 6, '1024': 2, 'tampa': 100, 'take': 48, 'continental': 194, '100': 4, 'less': 66, 'than': 86, 'capacity': 20, 'fourteenth': 18, 'seating': 18, 'thirty': 18, 'fifteenth': 34, 'daily': 78, 'such': 2, 'abbreviations': 4, 'f': 22, 'logan': 14, 'eastern': 44, 'nashville': 96, \"'m\": 92, 'sorry': 6, 'wanted': 2, 'guardia': 20, 'schedule': 48, 'thirtieth': 28, '1': 26, '852': 4, 'ohio': 10, 'jersey': 20, 'paul': 64, 'westchester': 34, 'county': 30, '615': 2, 'approximately': 4, 'detroit': 68, 'stops': 54, '9': 60, 'heading': 6, 'via': 36, 'an': 118, 'about': 104, 'mealtime': 2, 'say': 4, '1991': 40, 'meals': 20, 'interested': 38, 'business': 40, 'provides': 2, 'prefer': 2, 'listing': 26, '530': 10, '1288': 2, 'lunch': 22, 'same': 34, 'day': 66, 'wish': 6, 'third': 56, 'tickets': 24, 'stand': 32, 'twelfth': 22, 'makes': 18, 'difference': 4, 'wednesdays': 28, 'should': 18, 'close': 6, 'be': 46, 'prices': 38, 'four': 4, '257': 2, 'number': 44, 'twentieth': 38, '737': 6, 'boeing': 14, 'flies': 30, 'across': 2, 'continent': 2, 'sfo': 12, 'again': 24, '430': 10, 'seventeenth': 18, 'f28': 6, 'looking': 46, 'minnesota': 6, 'layover': 16, '630': 12, 'overnight': 2, 'their': 10, 'highest': 4, 'connection': 4, 'those': 8, 'trying': 12, 'breakfast': 50, 'yes': 14, 'if': 18, 'airplane': 18, 'yn': 14, 'seats': 8, 'trips': 6, '1700': 4, 'ord': 4, '813': 6, 'using': 34, 'local': 2, '2134': 4, 'nationair': 10, 'qx': 24, 'montreal': 108, 'maximum': 6, 'pennsylvania': 8, 'colorado': 20, 'choices': 6, 'my': 18, 'lowest': 72, 'through': 34, 'route': 2, 'dl': 38, '746': 2, 'transport': 22, 'ontario': 36, 'represented': 2, 'database': 4, 'world': 2, '1030': 2, '1130': 2, 'trans': 2, 'discount': 2, 'hi': 18, 'saturdays': 8, 'tower': 4, 'either': 24, \"'re\": 16, '1765': 4, '2153': 2, 'possible': 48, 'thereafter': 2, 'will': 36, 'soon': 4, 'as': 32, 'eight': 4, 'sixteen': 8, 'jfk': 10, 'late': 42, 'ap': 30, 'restriction': 44, '57': 20, '71': 2, 'up': 4, '466': 14, 'eighteenth': 10, 'days': 10, 'each': 14, 'supper': 2, '3': 36, 'bna': 2, '106': 2, 'offers': 6, 'costs': 10, 'rental': 34, '1100': 12, '11': 14, 'departures': 8, 'explain': 20, '80': 6, 'fit': 6, 'd9s': 2, 'passengers': 8, 'arrangements': 34, 'your': 32, 'rates': 8, 'abbreviation': 14, 'afterwards': 2, 'starting': 10, 'dfw': 16, '345': 2, 'october': 24, 'price': 42, '19': 2, 'y': 18, 'hello': 8, 'provided': 10, 'other': 34, 'north': 24, 'carolina': 24, 'but': 16, 'california': 64, 'quebec': 4, 'canada': 12, 'originate': 4, '82': 2, '139': 2, 'repeating': 2, '420': 2, 'let': 12, 'look': 4, '281': 12, 'ua': 34, 'm80': 4, '1115': 8, '1245': 8, 'm': 4, 'sa': 6, 'land': 8, 'regarding': 2, 'january': 18, 'name': 10, 'takeoffs': 12, 'landings': 16, 'later': 12, '72s': 4, 'fn': 6, 'nights': 2, 'hp': 14, 'uses': 14, 'cp': 4, 'seven': 2, 'carries': 4, 'qo': 12, 'co': 6, 'restrictions': 4, '416': 2, 'so': 8, 'here': 4, 'services': 6, '1992': 8, 'weekday': 18, 'kindly': 2, 'taxi': 6, 'limousines': 2, '555': 6, '825': 8, 'when': 18, '201': 4, 'place': 2, 'includes': 2, 'help': 8, '1026': 2, '124': 2, 'lufthansa': 10, 'fifteen': 2, 'plan': 6, 'six': 8, 'oh': 2, 'define': 6, 'live': 18, 'ff': 10, 'year': 2, 'tuesdays': 8, 'total': 8, 'connect': 8, 'ea': 10, '747': 10, 'connections': 6, 'including': 2, 'o': 2, \"'hare\": 2, '718': 8, 'use': 14, 'philly': 4, '815': 2, '928': 2, 'located': 4, 'bur': 2, 'thursdays': 6, 'departure': 18, 'ap57': 8, 'dinnertime': 4, 'traveling': 16, '315': 2, '1291': 6, 'following': 8, '1039': 4, 'amount': 8, 'lastest': 4, 'longest': 2, '21': 6, '1222': 4, 'over': 14, 'grounds': 2, '200': 2, 'they': 4, 'just': 4, 'must': 2, '2100': 8, 'operation': 2, 'd': 4, 's': 8, '297': 2, 'question': 2, 'more': 8, 'texas': 6, 'nw': 6, 'laying': 2, 'limo': 4, '650': 2, 'tonight': 2, 'ewr': 18, '3724': 4, 'ls': 2, 'describe': 6, '210': 4, 'originating': 6, 'stapleton': 4, 'who': 4, 'making': 10, '343': 4, '1600': 2, 'hours': 14, 'noontime': 4, 'options': 6, 'ten': 6, 'people': 16, '1145': 4, 'inform': 2, 'k': 2, 'weekdays': 8, 'cities': 44, 'schedules': 4, '932': 4, 'nonstops': 4, 'near': 8, 'aa': 2, '459': 2, 'tennessee': 6, 'calling': 2, 'designate': 2, 'without': 4, 'spend': 2, 'hou': 2, '1220': 2, 'directly': 2, 'mornings': 10, 'landing': 4, 'reverse': 2, 'b': 4, 'codes': 14, 'belong': 2, '515': 2, '445': 2, 'midway': 4, '217': 4, 'sometime': 10, '150': 2, 'dc10': 6, '110': 2, 'connects': 2, 'charges': 2, 'minimum': 2, 'intercontinental': 2, 'bound': 4, '727': 4, 'takeoff': 4, 'seat': 2, 'final': 2, 'destination': 8, 'different': 6, 'capacities': 2, '296': 6, '324': 4, '823': 2, '1059': 2, '271': 2, 'alaska': 4, '934': 6, 'michigan': 4, 'able': 2, 'put': 2, 'hartfield': 2, 'locate': 2, 'scheduled': 2, 'train': 4, 'equipment': 2, '1158': 2, '225': 2, 'lands': 2, 'begins': 2, 'reaches': 2, 'carried': 2, 'these': 10, 'indiana': 2, 'try': 2, 'well': 6, \"'ll\": 10, 'right': 16, '130': 2, 'arizona': 4, 'continuing': 2, 'include': 6, 'lester': 2, 'pearson': 2, 'along': 4, 'friends': 4, 'everywhere': 2, 'thirteenth': 4, 'transcontinental': 4, '73s': 2, 'offered': 2, 'whether': 2, 'we': 6, 'utah': 4, 'missouri': 4, 'another': 8, 'cars': 6, 'usa': 2, 'eye': 2, 'red': 2, '1045': 2, 'georgia': 8, 'dulles': 4, 'currently': 2, 'anywhere': 10, 'reservations': 4, 'visit': 2, 'them': 2, 'lives': 2, '55': 2, 'determine': 2, 'thing': 2, '705': 2, 'fridays': 2, 'catch': 2, 'straight': 2, '767': 4, '269': 4, 'planning': 2, '405': 2, 'listed': 2, '1055': 2, 'departs': 8, 'equal': 2, 'ac': 4, 'provide': 6, 'hopefully': 2, 'turboprop': 6, 'symbols': 2, 'sort': 2, 'cover': 2, '810': 2, 'sundays': 6, 'operating': 2, 'february': 10, '1205': 2, '757': 4, 'mondays': 2, '270': 6, '733': 2, 'atl': 4, 'requesting': 8, 'meaning': 6, 'besides': 2, 'too': 4, 'month': 4, 'got': 2, 'wants': 2, 'somebody': 2, \"'ve\": 2, 'else': 2, 'level': 2, 'vicinity': 2, 'taking': 4, '311': 2, 'mia': 2, 'instead': 2, 'repeat': 4, 'eleven': 2, 'off': 2, '415': 6, 'greatest': 2, 'summer': 2, '300': 2, 'lax': 2, 'economic': 2, 'bay': 2, '402': 2, '845': 4, 'j31': 2, 'date': 2, '1020': 2, '730': 2, '400': 2, 'doesn': 2, '1993': 2, 'toward': 2, 'home': 2, '1850': 2, '1505': 2, 'runs': 2, 'stands': 6, '723': 2, 'thanks': 2, 'bring': 2, 'zone': 2, 'yyz': 2, 'airplanes': 4, 'non': 2, 'buy': 4, '500': 2, 'airfares': 2, 'come': 2, '428': 2, '98': 2, 'qualify': 2, '137338': 2, '279': 2, 'd10': 2, '539': 2, 'fine': 2, 'while': 2, '1200': 2, 'ap80': 6, 'concerning': 2, 'iah': 2, '1230': 2, 'still': 4, 'preferably': 2, 'itinerary': 4, '3357': 2, '229': 2, '323': 2, 'inexpensive': 2, 'actually': 4, '734': 2, '1017': 2, 'earlier': 4, '1083': 2, '0900': 2, '645': 2, 'single': 2, 'ap68': 2, '4400': 2, '1133': 2, '43': 2, 'once': 2, 'town': 2, 'various': 4, '212': 2, 'reaching': 4, '305': 2, 'anything': 2, '771': 2, 'very': 4, 'jet': 2, 'nevada': 2, 'staying': 2, 'travels': 2, 'order': 2, '497766': 2, 'sounds': 2, 'great': 6, 'three': 6, 'start': 2, 'run': 2, '1500': 2, 'hold': 2, 'listings': 2, '1209': 2, 'sd': 2, '1300': 2, 'enroute': 2, 'takes': 2, 'having': 2, 'advertises': 2, 'names': 4, 'seventeen': 2, 'companies': 2, '1940': 2, 'priced': 2, 'closest': 2, 'gets': 2, 'afternoons': 2, 'largest': 2, 'oak': 2, 'twelve': 2, '163': 2, '505': 2, 'nighttime': 2, '819': 2, '417': 2, 'working': 2, 'scenario': 2})\n"
     ]
    }
   ],
   "source": [
    "\n",
    "# summarize what was learned\n",
    "print(t.word_counts)\n",
    "print(t.document_count)\n",
    "print(t.word_index)\n",
    "print(t.word_docs)\n"
   ]
  },
  {
   "cell_type": "code",
   "execution_count": 185,
   "metadata": {},
   "outputs": [
    {
     "name": "stdout",
     "output_type": "stream",
     "text": [
      "[[0. 1. 1. ... 0. 0. 0.]\n",
      " [0. 1. 1. ... 0. 0. 0.]\n",
      " [0. 0. 0. ... 0. 0. 0.]\n",
      " ...\n",
      " [0. 0. 0. ... 0. 0. 0.]\n",
      " [0. 1. 1. ... 0. 0. 0.]\n",
      " [0. 1. 1. ... 0. 0. 0.]]\n"
     ]
    }
   ],
   "source": [
    "X  = t.texts_to_matrix(sentences, mode='count')\n",
    "\n",
    "print(X)"
   ]
  },
  {
   "cell_type": "code",
   "execution_count": 186,
   "metadata": {},
   "outputs": [],
   "source": [
    "no_intents = len(set(intents))\n",
    "uniq_intents = list(set(intents))"
   ]
  },
  {
   "cell_type": "code",
   "execution_count": 187,
   "metadata": {},
   "outputs": [],
   "source": [
    "t1 = Tokenizer()\n",
    "t1.fit_on_texts(intents)\n",
    "y  = t1.texts_to_matrix(intents, mode='count')"
   ]
  },
  {
   "cell_type": "code",
   "execution_count": 188,
   "metadata": {},
   "outputs": [],
   "source": [
    "# print(uniq_intents)\n",
    "intents_no = []\n",
    "for i in intents:\n",
    "    intents_no.append(uniq_intents.index(i))"
   ]
  },
  {
   "cell_type": "code",
   "execution_count": 190,
   "metadata": {},
   "outputs": [],
   "source": [
    "y = to_categorical(intents_no)\n",
    "# print(y_test.shape)\n",
    "# # y_test.append(np.zeros(y_test.shape[0]))\n",
    "# y_t = np.zeros((893,19))\n",
    "# for i,t in enumerate(y_test):\n",
    "#     print(t)\n",
    "#     y_t[i] = t[:19]\n",
    "# print(X_test.shape)"
   ]
  },
  {
   "cell_type": "code",
   "execution_count": 192,
   "metadata": {},
   "outputs": [],
   "source": [
    "from sklearn.model_selection import train_test_split\n",
    "X_train, X_test, y_train, y_test = train_test_split(X, y, test_size=0.10)"
   ]
  },
  {
   "cell_type": "code",
   "execution_count": 195,
   "metadata": {},
   "outputs": [],
   "source": [
    "model = Sequential()\n",
    "model.add(Dense(units = 100, activation='relu',input_dim = X_train.shape[1]))\n",
    "model.add(Dense(units = y_train.shape[1], activation = 'softmax'))\n"
   ]
  },
  {
   "cell_type": "code",
   "execution_count": 196,
   "metadata": {},
   "outputs": [],
   "source": [
    "model.compile(loss='categorical_crossentropy',\n",
    "              optimizer='sgd',\n",
    "              metrics=['accuracy'])"
   ]
  },
  {
   "cell_type": "code",
   "execution_count": 197,
   "metadata": {
    "scrolled": true
   },
   "outputs": [
    {
     "name": "stdout",
     "output_type": "stream",
     "text": [
      "Epoch 1/100\n",
      "8960/8960 [==============================] - 1s 59us/step - loss: 1.4804 - acc: 0.7044\n",
      "Epoch 2/100\n",
      "8960/8960 [==============================] - 0s 33us/step - loss: 0.9877 - acc: 0.7350\n",
      "Epoch 3/100\n",
      "8960/8960 [==============================] - 0s 36us/step - loss: 0.8691 - acc: 0.7502\n",
      "Epoch 4/100\n",
      "8960/8960 [==============================] - 0s 33us/step - loss: 0.7818 - acc: 0.7923\n",
      "Epoch 5/100\n",
      "8960/8960 [==============================] - 0s 35us/step - loss: 0.7134 - acc: 0.8213\n",
      "Epoch 6/100\n",
      "8960/8960 [==============================] - 0s 33us/step - loss: 0.6584 - acc: 0.8390\n",
      "Epoch 7/100\n",
      "8960/8960 [==============================] - 0s 35us/step - loss: 0.6135 - acc: 0.8558\n",
      "Epoch 8/100\n",
      "8960/8960 [==============================] - 0s 35us/step - loss: 0.5755 - acc: 0.8644\n",
      "Epoch 9/100\n",
      "8960/8960 [==============================] - 0s 34us/step - loss: 0.5430 - acc: 0.8728\n",
      "Epoch 10/100\n",
      "8960/8960 [==============================] - 0s 35us/step - loss: 0.5143 - acc: 0.8776\n",
      "Epoch 11/100\n",
      "8960/8960 [==============================] - 0s 34us/step - loss: 0.4887 - acc: 0.8848\n",
      "Epoch 12/100\n",
      "8960/8960 [==============================] - 0s 36us/step - loss: 0.4661 - acc: 0.8927\n",
      "Epoch 13/100\n",
      "8960/8960 [==============================] - 0s 33us/step - loss: 0.4455 - acc: 0.8968\n",
      "Epoch 14/100\n",
      "8960/8960 [==============================] - 0s 33us/step - loss: 0.4269 - acc: 0.9004\n",
      "Epoch 15/100\n",
      "8960/8960 [==============================] - 0s 37us/step - loss: 0.4101 - acc: 0.9038\n",
      "Epoch 16/100\n",
      "8960/8960 [==============================] - 0s 35us/step - loss: 0.3946 - acc: 0.9069\n",
      "Epoch 17/100\n",
      "8960/8960 [==============================] - 0s 34us/step - loss: 0.3804 - acc: 0.9078\n",
      "Epoch 18/100\n",
      "8960/8960 [==============================] - 0s 37us/step - loss: 0.3672 - acc: 0.9094\n",
      "Epoch 19/100\n",
      "8960/8960 [==============================] - 0s 36us/step - loss: 0.3551 - acc: 0.9109\n",
      "Epoch 20/100\n",
      "8960/8960 [==============================] - 0s 35us/step - loss: 0.3437 - acc: 0.9122\n",
      "Epoch 21/100\n",
      "8960/8960 [==============================] - 0s 33us/step - loss: 0.3330 - acc: 0.9146\n",
      "Epoch 22/100\n",
      "8960/8960 [==============================] - 0s 31us/step - loss: 0.3230 - acc: 0.9156\n",
      "Epoch 23/100\n",
      "8960/8960 [==============================] - 0s 35us/step - loss: 0.3136 - acc: 0.9181\n",
      "Epoch 24/100\n",
      "8960/8960 [==============================] - 0s 38us/step - loss: 0.3046 - acc: 0.9202\n",
      "Epoch 25/100\n",
      "8960/8960 [==============================] - 0s 36us/step - loss: 0.2963 - acc: 0.9217\n",
      "Epoch 26/100\n",
      "8960/8960 [==============================] - 0s 36us/step - loss: 0.2882 - acc: 0.9234\n",
      "Epoch 27/100\n",
      "8960/8960 [==============================] - 0s 36us/step - loss: 0.2806 - acc: 0.9266\n",
      "Epoch 28/100\n",
      "8960/8960 [==============================] - 0s 40us/step - loss: 0.2734 - acc: 0.9288\n",
      "Epoch 29/100\n",
      "8960/8960 [==============================] - 0s 42us/step - loss: 0.2664 - acc: 0.9296\n",
      "Epoch 30/100\n",
      "8960/8960 [==============================] - 0s 39us/step - loss: 0.2598 - acc: 0.9326\n",
      "Epoch 31/100\n",
      "8960/8960 [==============================] - 0s 32us/step - loss: 0.2535 - acc: 0.9338\n",
      "Epoch 32/100\n",
      "8960/8960 [==============================] - 0s 36us/step - loss: 0.2475 - acc: 0.9356\n",
      "Epoch 33/100\n",
      "8960/8960 [==============================] - 0s 36us/step - loss: 0.2416 - acc: 0.9362\n",
      "Epoch 34/100\n",
      "8960/8960 [==============================] - 0s 42us/step - loss: 0.2361 - acc: 0.9384\n",
      "Epoch 35/100\n",
      "8960/8960 [==============================] - 0s 34us/step - loss: 0.2306 - acc: 0.9401\n",
      "Epoch 36/100\n",
      "8960/8960 [==============================] - 0s 34us/step - loss: 0.2253 - acc: 0.9406\n",
      "Epoch 37/100\n",
      "8960/8960 [==============================] - 0s 35us/step - loss: 0.2205 - acc: 0.9427\n",
      "Epoch 38/100\n",
      "8960/8960 [==============================] - 0s 34us/step - loss: 0.2157 - acc: 0.9434\n",
      "Epoch 39/100\n",
      "8960/8960 [==============================] - 0s 32us/step - loss: 0.2111 - acc: 0.9463\n",
      "Epoch 40/100\n",
      "8960/8960 [==============================] - 0s 32us/step - loss: 0.2066 - acc: 0.9467\n",
      "Epoch 41/100\n",
      "8960/8960 [==============================] - 0s 33us/step - loss: 0.2022 - acc: 0.9474\n",
      "Epoch 42/100\n",
      "8960/8960 [==============================] - 0s 32us/step - loss: 0.1981 - acc: 0.9489\n",
      "Epoch 43/100\n",
      "8960/8960 [==============================] - 0s 34us/step - loss: 0.1940 - acc: 0.9502\n",
      "Epoch 44/100\n",
      "8960/8960 [==============================] - 0s 33us/step - loss: 0.1901 - acc: 0.9511\n",
      "Epoch 45/100\n",
      "8960/8960 [==============================] - 0s 32us/step - loss: 0.1864 - acc: 0.9518\n",
      "Epoch 46/100\n",
      "8960/8960 [==============================] - 0s 31us/step - loss: 0.1827 - acc: 0.9536\n",
      "Epoch 47/100\n",
      "8960/8960 [==============================] - 0s 32us/step - loss: 0.1792 - acc: 0.9540\n",
      "Epoch 48/100\n",
      "8960/8960 [==============================] - 0s 33us/step - loss: 0.1757 - acc: 0.9563\n",
      "Epoch 49/100\n",
      "8960/8960 [==============================] - 0s 31us/step - loss: 0.1723 - acc: 0.9571\n",
      "Epoch 50/100\n",
      "8960/8960 [==============================] - 0s 31us/step - loss: 0.1690 - acc: 0.9587\n",
      "Epoch 51/100\n",
      "8960/8960 [==============================] - 0s 33us/step - loss: 0.1659 - acc: 0.9588\n",
      "Epoch 52/100\n",
      "8960/8960 [==============================] - 0s 33us/step - loss: 0.1629 - acc: 0.9605\n",
      "Epoch 53/100\n",
      "8960/8960 [==============================] - 0s 32us/step - loss: 0.1601 - acc: 0.9617\n",
      "Epoch 54/100\n",
      "8960/8960 [==============================] - 0s 31us/step - loss: 0.1571 - acc: 0.9619\n",
      "Epoch 55/100\n",
      "8960/8960 [==============================] - 0s 32us/step - loss: 0.1544 - acc: 0.9631\n",
      "Epoch 56/100\n",
      "8960/8960 [==============================] - 0s 33us/step - loss: 0.1517 - acc: 0.9642\n",
      "Epoch 57/100\n",
      "8960/8960 [==============================] - 0s 32us/step - loss: 0.1490 - acc: 0.9648\n",
      "Epoch 58/100\n",
      "8960/8960 [==============================] - 0s 32us/step - loss: 0.1465 - acc: 0.9650\n",
      "Epoch 59/100\n",
      "8960/8960 [==============================] - 0s 33us/step - loss: 0.1438 - acc: 0.9671\n",
      "Epoch 60/100\n",
      "8960/8960 [==============================] - 0s 33us/step - loss: 0.1416 - acc: 0.9679\n",
      "Epoch 61/100\n",
      "8960/8960 [==============================] - 0s 31us/step - loss: 0.1392 - acc: 0.9684\n",
      "Epoch 62/100\n",
      "8960/8960 [==============================] - 0s 31us/step - loss: 0.1369 - acc: 0.9690\n",
      "Epoch 63/100\n",
      "8960/8960 [==============================] - 0s 37us/step - loss: 0.1347 - acc: 0.9695\n",
      "Epoch 64/100\n",
      "8960/8960 [==============================] - 0s 35us/step - loss: 0.1325 - acc: 0.9705\n",
      "Epoch 65/100\n",
      "8960/8960 [==============================] - 0s 38us/step - loss: 0.1304 - acc: 0.9711\n",
      "Epoch 66/100\n",
      "8960/8960 [==============================] - 0s 38us/step - loss: 0.1282 - acc: 0.9718\n",
      "Epoch 67/100\n",
      "8960/8960 [==============================] - 0s 33us/step - loss: 0.1263 - acc: 0.9728\n",
      "Epoch 68/100\n",
      "8960/8960 [==============================] - 0s 34us/step - loss: 0.1243 - acc: 0.9729\n",
      "Epoch 69/100\n",
      "8960/8960 [==============================] - 0s 33us/step - loss: 0.1225 - acc: 0.9748\n",
      "Epoch 70/100\n",
      "8960/8960 [==============================] - 0s 34us/step - loss: 0.1207 - acc: 0.9747\n",
      "Epoch 71/100\n",
      "8960/8960 [==============================] - 0s 34us/step - loss: 0.1188 - acc: 0.9756\n",
      "Epoch 72/100\n",
      "8960/8960 [==============================] - 0s 37us/step - loss: 0.1170 - acc: 0.9758\n",
      "Epoch 73/100\n",
      "8960/8960 [==============================] - 0s 35us/step - loss: 0.1154 - acc: 0.9767\n",
      "Epoch 74/100\n",
      "8960/8960 [==============================] - 0s 36us/step - loss: 0.1136 - acc: 0.9777\n",
      "Epoch 75/100\n",
      "8960/8960 [==============================] - 0s 33us/step - loss: 0.1119 - acc: 0.9779\n",
      "Epoch 76/100\n",
      "8960/8960 [==============================] - 0s 33us/step - loss: 0.1104 - acc: 0.9791\n",
      "Epoch 77/100\n",
      "8960/8960 [==============================] - 0s 36us/step - loss: 0.1089 - acc: 0.9795\n",
      "Epoch 78/100\n",
      "8960/8960 [==============================] - 0s 36us/step - loss: 0.1073 - acc: 0.9808\n",
      "Epoch 79/100\n",
      "8960/8960 [==============================] - 0s 37us/step - loss: 0.1058 - acc: 0.9812\n",
      "Epoch 80/100\n",
      "8960/8960 [==============================] - 0s 38us/step - loss: 0.1044 - acc: 0.9816\n",
      "Epoch 81/100\n",
      "8960/8960 [==============================] - 0s 35us/step - loss: 0.1030 - acc: 0.9820\n",
      "Epoch 82/100\n",
      "8960/8960 [==============================] - 0s 32us/step - loss: 0.1015 - acc: 0.9824\n",
      "Epoch 83/100\n"
     ]
    },
    {
     "name": "stdout",
     "output_type": "stream",
     "text": [
      "8960/8960 [==============================] - 0s 34us/step - loss: 0.1002 - acc: 0.9823\n",
      "Epoch 84/100\n",
      "8960/8960 [==============================] - 0s 39us/step - loss: 0.0989 - acc: 0.9827\n",
      "Epoch 85/100\n",
      "8960/8960 [==============================] - 0s 36us/step - loss: 0.0975 - acc: 0.9827\n",
      "Epoch 86/100\n",
      "8960/8960 [==============================] - 0s 36us/step - loss: 0.0963 - acc: 0.9836\n",
      "Epoch 87/100\n",
      "8960/8960 [==============================] - 0s 33us/step - loss: 0.0950 - acc: 0.9838\n",
      "Epoch 88/100\n",
      "8960/8960 [==============================] - 0s 31us/step - loss: 0.0937 - acc: 0.9838\n",
      "Epoch 89/100\n",
      "8960/8960 [==============================] - 0s 32us/step - loss: 0.0925 - acc: 0.9837\n",
      "Epoch 90/100\n",
      "8960/8960 [==============================] - 0s 31us/step - loss: 0.0914 - acc: 0.9843\n",
      "Epoch 91/100\n",
      "8960/8960 [==============================] - 0s 33us/step - loss: 0.0902 - acc: 0.9847\n",
      "Epoch 92/100\n",
      "8960/8960 [==============================] - 0s 31us/step - loss: 0.0891 - acc: 0.9848\n",
      "Epoch 93/100\n",
      "8960/8960 [==============================] - 0s 31us/step - loss: 0.0880 - acc: 0.9849\n",
      "Epoch 94/100\n",
      "8960/8960 [==============================] - 0s 32us/step - loss: 0.0870 - acc: 0.9849\n",
      "Epoch 95/100\n",
      "8960/8960 [==============================] - 0s 33us/step - loss: 0.0858 - acc: 0.9856\n",
      "Epoch 96/100\n",
      "8960/8960 [==============================] - 0s 33us/step - loss: 0.0848 - acc: 0.9853\n",
      "Epoch 97/100\n",
      "8960/8960 [==============================] - 0s 32us/step - loss: 0.0838 - acc: 0.9856\n",
      "Epoch 98/100\n",
      "8960/8960 [==============================] - 0s 39us/step - loss: 0.0828 - acc: 0.9857\n",
      "Epoch 99/100\n",
      "8960/8960 [==============================] - 0s 37us/step - loss: 0.0818 - acc: 0.9864\n",
      "Epoch 100/100\n",
      "8960/8960 [==============================] - 0s 33us/step - loss: 0.0809 - acc: 0.9863\n"
     ]
    },
    {
     "data": {
      "text/plain": [
       "<keras.callbacks.History at 0x134016be0>"
      ]
     },
     "execution_count": 197,
     "metadata": {},
     "output_type": "execute_result"
    }
   ],
   "source": [
    "model.fit(X_train, y_train, epochs=100, batch_size=32)"
   ]
  },
  {
   "cell_type": "code",
   "execution_count": 199,
   "metadata": {},
   "outputs": [
    {
     "name": "stdout",
     "output_type": "stream",
     "text": [
      "996/996 [==============================] - 0s 25us/step\n",
      "Loss : 0.12350403233225565\n",
      "Accuracy : 0.9728915650681799\n"
     ]
    }
   ],
   "source": [
    "loss_and_metrics = model.evaluate(X_test, y_test, batch_size=128)\n",
    "print(\"Loss : {}\\nAccuracy : {}\".format(loss_and_metrics[0], loss_and_metrics[1]))"
   ]
  },
  {
   "cell_type": "code",
   "execution_count": 249,
   "metadata": {},
   "outputs": [
    {
     "data": {
      "text/plain": [
       "10"
      ]
     },
     "execution_count": 249,
     "metadata": {},
     "output_type": "execute_result"
    }
   ],
   "source": [
    "import random\n",
    "random.randint(10,10)"
   ]
  }
 ],
 "metadata": {
  "kernelspec": {
   "display_name": "Python 3",
   "language": "python",
   "name": "python3"
  },
  "language_info": {
   "codemirror_mode": {
    "name": "ipython",
    "version": 3
   },
   "file_extension": ".py",
   "mimetype": "text/x-python",
   "name": "python",
   "nbconvert_exporter": "python",
   "pygments_lexer": "ipython3",
   "version": "3.6.5"
  }
 },
 "nbformat": 4,
 "nbformat_minor": 2
}
